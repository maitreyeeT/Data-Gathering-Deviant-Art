{
 "cells": [
  {
   "cell_type": "code",
   "execution_count": 2,
   "metadata": {},
   "outputs": [],
   "source": [
    "import pandas as pd\n",
    "import requests\n",
    "import json\n",
    "import datetime\n",
    "import time\n",
    "import random"
   ]
  },
  {
   "cell_type": "code",
   "execution_count": 3,
   "metadata": {},
   "outputs": [],
   "source": [
    "import requests\n",
    "import requests.auth\n",
    "\n",
    "client_id = \"42096\"\n",
    "client_secret = \"97080792c6d30a4178965e41f1ca15de\"\n",
    "TOKEN_URL = \"https://www.deviantart.com/oauth2/token\"\n",
    "REDIRECT_URI = \"https://www.deviantart.com/oauth2/authorize\"\n",
    "\n",
    "def get_token():\n",
    "    client_auth = requests.auth.HTTPBasicAuth(client_id, client_secret)\n",
    "    post_data = {\"grant_type\": \"client_credentials\",\n",
    "                 \"redirect_uri\": REDIRECT_URI}\n",
    "    response = requests.post(TOKEN_URL,\n",
    "                             auth=client_auth,\n",
    "                             data=post_data)\n",
    "    token_json = response.json()\n",
    "    return token_json[\"access_token\"]"
   ]
  },
  {
   "cell_type": "code",
   "execution_count": 6,
   "metadata": {},
   "outputs": [],
   "source": [
    "def get_a_week(numdays):\n",
    "    date_list=[(datetime.date.today() - datetime.timedelta(days=x)).strftime('%Y-%m-%d') for x in range(0, numdays)]\n",
    "    return date_list"
   ]
  },
  {
   "cell_type": "code",
   "execution_count": 3,
   "metadata": {},
   "outputs": [],
   "source": [
    "def get_dailydeviations_info(token, day):\n",
    "    api_url = f\"https://www.deviantart.com/api/v1/oauth2/browse/dailydeviations?access_token={token}\"\n",
    "    response = requests.get(api_url, params={'date': day})\n",
    "    return response"
   ]
  },
  {
   "cell_type": "code",
   "execution_count": 8,
   "metadata": {},
   "outputs": [],
   "source": [
    "token = get_token()"
   ]
  },
  {
   "cell_type": "code",
   "execution_count": 9,
   "metadata": {},
   "outputs": [
    {
     "data": {
      "text/plain": [
       "<Response [200]>"
      ]
     },
     "execution_count": 9,
     "metadata": {},
     "output_type": "execute_result"
    }
   ],
   "source": [
    "get_dailydeviations_info(token,datetime.date.today())"
   ]
  },
  {
   "cell_type": "code",
   "execution_count": 5,
   "metadata": {
    "collapsed": true,
    "jupyter": {
     "outputs_hidden": true
    }
   },
   "outputs": [],
   "source": [
    "def get_response_rate(response):    \n",
    "    if response.status_code == 200:\n",
    "        return json.loads(response.content.decode('utf-8'))\n",
    "    elif response.status_code == 404:\n",
    "        return 'user_done'\n",
    "    elif response.status_code == 429:\n",
    "        return 'too_many_requests'\n",
    "    elif response.status_code == 500:\n",
    "        return 'server error'\n",
    "    elif response.status_code == 401:\n",
    "        return 'get new token'"
   ]
  },
  {
   "cell_type": "code",
   "execution_count": 6,
   "metadata": {
    "collapsed": true,
    "jupyter": {
     "outputs_hidden": true
    }
   },
   "outputs": [],
   "source": [
    "date=random.choice(get_a_week(7))"
   ]
  },
  {
   "cell_type": "code",
   "execution_count": 11,
   "metadata": {},
   "outputs": [],
   "source": [
    "def get_seed(numdays):\n",
    "    token=get_token()\n",
    "    date=random.choice(get_a_week(numdays))\n",
    "    response=get_dailydeviations_info(token, date)\n",
    "    j=get_response_rate(response)\n",
    "    if j=='too_many_requests':\n",
    "        time.sleep(60)\n",
    "        j=get_response_rate(response)\n",
    "    elif j=='get new token': \n",
    "        token=get_token()\n",
    "        j=get_response_rate(response)\n",
    "    return random.choice([i['author'] for i in j['results']])"
   ]
  },
  {
   "cell_type": "code",
   "execution_count": 1,
   "metadata": {},
   "outputs": [],
   "source": [
    "def get_friends(username, page):\n",
    "    token=get_token()\n",
    "    api_url=f\"https://www.deviantart.com/api/v1/oauth2/user/friends/{username}?access_token={token}\"\n",
    "    response = requests.get(api_url, params={'offset': page, 'limit': 50})\n",
    "    return response"
   ]
  },
  {
   "cell_type": "code",
   "execution_count": 5,
   "metadata": {},
   "outputs": [],
   "source": [
    "def parse_friends(friends):\n",
    "    users=pd.DataFrame()\n",
    "    #print(friends.keys())\n",
    "    has_more=friends.get('has_more')\n",
    "    #next_offset=friends['next_offset']\n",
    "    for i in friends['results']:\n",
    "        a={ 'username': i['user']['username'],\n",
    "            'is_watching': i['is_watching'],\n",
    "            'watches_you': i['watches_you'],\n",
    "            'last_visit': i['lastvisit'],\n",
    "            'activity': i['watch']['activity'],\n",
    "            'collections': i['watch']['collections'],\n",
    "            'critiques':  i['watch']['critiques'],\n",
    "            'deviations': i['watch']['deviations'],\n",
    "            'forum_threads': i['watch']['forum_threads'],\n",
    "            'friend': i['watch']['friend'],\n",
    "            'journals': i['watch']['journals'],\n",
    "            'scraps': i['watch']['scraps']}\n",
    "        users=users.append(pd.DataFrame.from_dict(a, orient='index').T)\n",
    "    return (has_more, a)"
   ]
  },
  {
   "cell_type": "code",
   "execution_count": 10,
   "metadata": {
    "collapsed": true,
    "jupyter": {
     "outputs_hidden": true
    }
   },
   "outputs": [],
   "source": [
    "def get_all_freinds(user):\n",
    "    token=get_token()\n",
    "    all_friends=pd.DataFrame()\n",
    "    has_more=True\n",
    "    for i in range(0,500):\n",
    "        if has_more==True:\n",
    "            resp=get_friends(user, i)\n",
    "            friends=get_response_rate(resp)\n",
    "            #print(friends)\n",
    "            if friends=='too_many_requests':\n",
    "                time.sleep(60)\n",
    "                friends=get_response_rate(resp)\n",
    "            if friends != None:\n",
    "                has_more, users=parse_friends(friends)\n",
    "            else:\n",
    "                return 'no friends'\n",
    "            if len(users)>0:\n",
    "                all_friends=all_friends.append(users)\n",
    "            else:\n",
    "                return 'no friends'\n",
    "    all_friends.to_csv(path+user+'_freinds.csv')\n",
    "    print('freinds printed')\n",
    "    return all_friends.sample(1)['username'].values[0]"
   ]
  },
  {
   "cell_type": "code",
   "execution_count": 11,
   "metadata": {
    "collapsed": true,
    "jupyter": {
     "outputs_hidden": true
    }
   },
   "outputs": [],
   "source": [
    "def get_user_profile(username):\n",
    "    token=get_token()\n",
    "    #url=f\"https://www.deviantart.com/api/v1/oauth2/user/profile/{username}?access_token={token}\"\n",
    "    url=f\"https://www.deviantart.com/api/v1/oauth2/user/profile/{username}?access_token={token}\"\n",
    "    response = requests.get(url)\n",
    "    return response"
   ]
  },
  {
   "cell_type": "code",
   "execution_count": 12,
   "metadata": {
    "collapsed": true,
    "jupyter": {
     "outputs_hidden": true
    }
   },
   "outputs": [],
   "source": [
    "def parse_user_profile(user):\n",
    "    s=get_user_profile(user)\n",
    "    d=json.loads(s.text)\n",
    "    if 'error' not in d.keys():\n",
    "        a={'user':user,\n",
    "        'real_name': d.get('real_name'),\n",
    "        'profil_url': d['profile_url'],\n",
    "        'tags': d['tagline'],\n",
    "        'country': d['countryid'],\n",
    "        'bio': d['bio'],\n",
    "        'level': d['artist_level'],\n",
    "        'specialty' :d['artist_specialty']}\n",
    "        a.update(d['stats'])\n",
    "        return a\n",
    "    else:\n",
    "        return 'error'"
   ]
  },
  {
   "cell_type": "code",
   "execution_count": 19,
   "metadata": {},
   "outputs": [],
   "source": [
    "res=pd.DataFrame()"
   ]
  },
  {
   "cell_type": "code",
   "execution_count": 20,
   "metadata": {},
   "outputs": [
    {
     "name": "stdout",
     "output_type": "stream",
     "text": [
      "hello\n",
      "0\n",
      "hello\n",
      "0\n"
     ]
    },
    {
     "ename": "KeyboardInterrupt",
     "evalue": "",
     "output_type": "error",
     "traceback": [
      "\u001b[0;31m---------------------------------------------------------------------------\u001b[0m",
      "\u001b[0;31mKeyboardInterrupt\u001b[0m                         Traceback (most recent call last)",
      "\u001b[0;32m<ipython-input-20-d98cc08fe085>\u001b[0m in \u001b[0;36m<module>\u001b[0;34m()\u001b[0m\n\u001b[1;32m      8\u001b[0m \u001b[0;32mfor\u001b[0m \u001b[0mi\u001b[0m \u001b[0;32min\u001b[0m \u001b[0mrange\u001b[0m\u001b[0;34m(\u001b[0m\u001b[0;36m0\u001b[0m\u001b[0;34m,\u001b[0m\u001b[0;36m500\u001b[0m\u001b[0;34m)\u001b[0m\u001b[0;34m:\u001b[0m\u001b[0;34m\u001b[0m\u001b[0;34m\u001b[0m\u001b[0m\n\u001b[1;32m      9\u001b[0m     \u001b[0;32mif\u001b[0m \u001b[0mi\u001b[0m\u001b[0;34m>\u001b[0m\u001b[0;36m1\u001b[0m\u001b[0;34m:\u001b[0m\u001b[0;34m\u001b[0m\u001b[0;34m\u001b[0m\u001b[0m\n\u001b[0;32m---> 10\u001b[0;31m         \u001b[0mtime\u001b[0m\u001b[0;34m.\u001b[0m\u001b[0msleep\u001b[0m\u001b[0;34m(\u001b[0m\u001b[0;36m100\u001b[0m\u001b[0;34m)\u001b[0m\u001b[0;34m\u001b[0m\u001b[0;34m\u001b[0m\u001b[0m\n\u001b[0m\u001b[1;32m     11\u001b[0m     \u001b[0;32melse\u001b[0m\u001b[0;34m:\u001b[0m\u001b[0;34m\u001b[0m\u001b[0;34m\u001b[0m\u001b[0m\n\u001b[1;32m     12\u001b[0m         \u001b[0;32mtry\u001b[0m\u001b[0;34m:\u001b[0m\u001b[0;34m\u001b[0m\u001b[0;34m\u001b[0m\u001b[0m\n",
      "\u001b[0;31mKeyboardInterrupt\u001b[0m: "
     ]
    }
   ],
   "source": [
    "token=get_token()\n",
    "path='/Users/orsi/Dropbox/devianrt/friends/'\n",
    "path_results='/Users/orsi/Dropbox/devianrt/results/'\n",
    "date=random.choice(get_a_week(7))\n",
    "response=get_dailydeviations_info(client_secret, date)\n",
    "user=get_seed(6)['username']\n",
    "#res=pd.DataFrame.from_dict(parse_user_profile(user, token), 'index').T\n",
    "for i in range(0,500):\n",
    "    if i>1:\n",
    "        time.sleep(100)\n",
    "    else:\n",
    "        try:\n",
    "            if i%100==0 and i>1:\n",
    "                res.to_csv(path_results+'users'+str(i)+'.csv')\n",
    "                user=get_seed(6)['username']\n",
    "            else:\n",
    "                user=get_all_freinds(user)\n",
    "                if user == 'no friends':\n",
    "                    user = get_seed(6)['username']\n",
    "            k=parse_user_profile(user)\n",
    "            if k!= 'error':\n",
    "                res=res.append(pd.DataFrame.from_dict(k, 'index').T)\n",
    "            else:\n",
    "                print('wtf')\n",
    "                pass\n",
    "        except:\n",
    "            try:\n",
    "                print('hello')\n",
    "                token=get_token()\n",
    "                user=get_seed(14)['username']\n",
    "                user=get_all_freinds(user)\n",
    "                response=get_dailydeviations_info(client_secret, date)\n",
    "                res=res.append(pd.DataFrame.from_dict(parse_user_profile(user), 'index').T)\n",
    "            except:\n",
    "                print(len(res))\n",
    "                pass"
   ]
  },
  {
   "cell_type": "code",
   "execution_count": 21,
   "metadata": {},
   "outputs": [
    {
     "data": {
      "text/html": [
       "<div>\n",
       "<style scoped>\n",
       "    .dataframe tbody tr th:only-of-type {\n",
       "        vertical-align: middle;\n",
       "    }\n",
       "\n",
       "    .dataframe tbody tr th {\n",
       "        vertical-align: top;\n",
       "    }\n",
       "\n",
       "    .dataframe thead th {\n",
       "        text-align: right;\n",
       "    }\n",
       "</style>\n",
       "<table border=\"1\" class=\"dataframe\">\n",
       "  <thead>\n",
       "    <tr style=\"text-align: right;\">\n",
       "      <th></th>\n",
       "    </tr>\n",
       "  </thead>\n",
       "  <tbody>\n",
       "  </tbody>\n",
       "</table>\n",
       "</div>"
      ],
      "text/plain": [
       "Empty DataFrame\n",
       "Columns: []\n",
       "Index: []"
      ]
     },
     "execution_count": 21,
     "metadata": {},
     "output_type": "execute_result"
    }
   ],
   "source": [
    "res"
   ]
  },
  {
   "cell_type": "code",
   "execution_count": 127,
   "metadata": {
    "collapsed": true,
    "jupyter": {
     "outputs_hidden": true
    }
   },
   "outputs": [],
   "source": [
    "res.to_csv('new_users'+len(res)'.csv')"
   ]
  },
  {
   "cell_type": "code",
   "execution_count": null,
   "metadata": {
    "collapsed": true,
    "jupyter": {
     "outputs_hidden": true
    }
   },
   "outputs": [],
   "source": [
    "get_all_freinds(user, token)"
   ]
  },
  {
   "cell_type": "code",
   "execution_count": null,
   "metadata": {
    "collapsed": true,
    "jupyter": {
     "outputs_hidden": true
    }
   },
   "outputs": [],
   "source": [
    "all_friends=pd.DataFrame()\n",
    "has_more=True\n",
    "for i in range(0,500):\n",
    "    if has_more==True:\n",
    "        resp=get_friends(user, token, i)\n",
    "        friends=get_response_rate(resp)\n",
    "        has_more, users=parse_friends(friends)\n",
    "        all_friends=all_friends.append(users)\n",
    "#all_friends.to_csv(path+user+'_freinds.csv')"
   ]
  },
  {
   "cell_type": "code",
   "execution_count": null,
   "metadata": {
    "collapsed": true,
    "jupyter": {
     "outputs_hidden": true
    }
   },
   "outputs": [],
   "source": [
    "get_response_rate(resp)"
   ]
  },
  {
   "cell_type": "code",
   "execution_count": null,
   "metadata": {
    "collapsed": true,
    "jupyter": {
     "outputs_hidden": true
    }
   },
   "outputs": [],
   "source": [
    "has_more, users=parse_friends(friends)"
   ]
  },
  {
   "cell_type": "code",
   "execution_count": null,
   "metadata": {
    "collapsed": true,
    "jupyter": {
     "outputs_hidden": true
    }
   },
   "outputs": [],
   "source": [
    "has_more"
   ]
  },
  {
   "cell_type": "code",
   "execution_count": null,
   "metadata": {
    "collapsed": true,
    "jupyter": {
     "outputs_hidden": true
    }
   },
   "outputs": [],
   "source": []
  }
 ],
 "metadata": {
  "kernelspec": {
   "display_name": "Python 3 (ipykernel)",
   "language": "python",
   "name": "python3"
  },
  "language_info": {
   "codemirror_mode": {
    "name": "ipython",
    "version": 3
   },
   "file_extension": ".py",
   "mimetype": "text/x-python",
   "name": "python",
   "nbconvert_exporter": "python",
   "pygments_lexer": "ipython3",
   "version": "3.10.12"
  }
 },
 "nbformat": 4,
 "nbformat_minor": 4
}
