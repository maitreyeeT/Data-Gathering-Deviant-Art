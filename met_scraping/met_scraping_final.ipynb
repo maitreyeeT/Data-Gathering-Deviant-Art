{
 "cells": [
  {
   "cell_type": "markdown",
   "id": "2cb2d715",
   "metadata": {},
   "source": [
    "# Setting up the scraping environment"
   ]
  },
  {
   "cell_type": "code",
   "execution_count": 21,
   "id": "d56a2bae",
   "metadata": {},
   "outputs": [],
   "source": [
    "from bs4 import BeautifulSoup\n",
    "from selenium import webdriver\n",
    "from selenium.webdriver.common.keys import Keys\n",
    "from selenium.webdriver.common.by import By\n",
    "from selenium.webdriver.support.ui import Select\n",
    "import pandas as pd\n",
    "import requests\n",
    "import numpy as np\n",
    "from tqdm import tqdm\n",
    "import os\n"
   ]
  },
  {
   "cell_type": "markdown",
   "id": "e9ef94d3",
   "metadata": {},
   "source": [
    "# Looping through the pages to gather article links"
   ]
  },
  {
   "cell_type": "markdown",
   "id": "b1777ee3",
   "metadata": {},
   "source": [
    "## loading db and creating a db for the new links\n"
   ]
  },
  {
   "cell_type": "code",
   "execution_count": 12,
   "id": "36ea5fe4",
   "metadata": {},
   "outputs": [],
   "source": [
    "#database reading in\n",
    " \n",
    "f_path = \"\"\n",
    "data = pd.read_csv('''f_path, nrows = 20''')\n"
   ]
  },
  {
   "cell_type": "code",
   "execution_count": null,
   "id": "9c1bc7a0",
   "metadata": {},
   "outputs": [],
   "source": [
    "#new database containing just the id and the url\n",
    "\n",
    "cols = [4,47]\n",
    "scrape_dt = data[data.columns[cols]]\n",
    "scrape_dt[\"im_link\"] = None"
   ]
  },
  {
   "cell_type": "markdown",
   "id": "910600db",
   "metadata": {},
   "source": [
    "## (chatgpt modified) code for downloading the image links into the scrape_dt database\n"
   ]
  },
  {
   "cell_type": "code",
   "execution_count": 22,
   "id": "e8cd6107",
   "metadata": {},
   "outputs": [
    {
     "name": "stdout",
     "output_type": "stream",
     "text": [
      "No image found for http://www.metmuseum.org/art/collection/search/1. Setting to NA.\n",
      "No image found for http://www.metmuseum.org/art/collection/search/2. Setting to NA.\n",
      "No image found for http://www.metmuseum.org/art/collection/search/3. Setting to NA.\n",
      "No image found for http://www.metmuseum.org/art/collection/search/4. Setting to NA.\n",
      "No image found for http://www.metmuseum.org/art/collection/search/5. Setting to NA.\n",
      "No image found for http://www.metmuseum.org/art/collection/search/6. Setting to NA.\n",
      "https://collectionapi.metmuseum.org/api/collection/v1/iiif/7/20225/restricted\n",
      "https://collectionapi.metmuseum.org/api/collection/v1/iiif/8/20226/restricted\n",
      "No image found for http://www.metmuseum.org/art/collection/search/9. Setting to NA.\n",
      "No image found for http://www.metmuseum.org/art/collection/search/10. Setting to NA.\n",
      "No image found for http://www.metmuseum.org/art/collection/search/11. Setting to NA.\n",
      "No image found for http://www.metmuseum.org/art/collection/search/12. Setting to NA.\n",
      "No image found for http://www.metmuseum.org/art/collection/search/13. Setting to NA.\n",
      "No image found for http://www.metmuseum.org/art/collection/search/14. Setting to NA.\n",
      "No image found for http://www.metmuseum.org/art/collection/search/15. Setting to NA.\n",
      "No image found for http://www.metmuseum.org/art/collection/search/16. Setting to NA.\n",
      "No image found for http://www.metmuseum.org/art/collection/search/17. Setting to NA.\n",
      "No image found for http://www.metmuseum.org/art/collection/search/18. Setting to NA.\n",
      "No image found for http://www.metmuseum.org/art/collection/search/19. Setting to NA.\n",
      "No image found for http://www.metmuseum.org/art/collection/search/20. Setting to NA.\n"
     ]
    }
   ],
   "source": [
    "for index, row in scrape_dt.iterrows():\n",
    "    ''' looping through the rows of the database. If the image lik can be downloaded, put it into \"im_link\" column.\n",
    "    The scraping looks for the right section in the html, transforms the section into a string\n",
    "    Slice the string based on the markers in front of and after the image url. \n",
    "    If getting the link is not possible (there are a lot of missing pictures on the subpages), change the cell to NA '''\n",
    "    \n",
    "    url = row['Link Resource']  # Get the URL from the current row\n",
    "    \n",
    "    try:\n",
    "        # Sending a request to the URL\n",
    "        response = requests.get(url)\n",
    "        response.raise_for_status()  # Ensure request was successful (raises an error for 4xx and 5xx responses)\n",
    "    except requests.RequestException as e:\n",
    "        print(f\"Request failed for {url}: {e}\")\n",
    "        scrape_dt.loc[index, \"im_link\"] = np.nan  # If request fails, set im_link to NA\n",
    "        continue  # Skip to the next row\n",
    "\n",
    "    # Parse the HTML content using BeautifulSoup\n",
    "    soup = BeautifulSoup(response.text, 'html.parser')\n",
    "\n",
    "    # Selecting the right image section from the webpage\n",
    "    elements = soup.select('img#artwork__image.artwork__image.js-artwork__image.gtm__artwork__image')\n",
    "\n",
    "    if elements:\n",
    "        # Extracting the 'src' attribute directly, avoiding unnecessary string manipulation\n",
    "        image = elements[0].get(\"src\", np.nan)  # If 'src' attribute is missing, default to NA\n",
    "        scrape_dt.loc[index, \"im_link\"] = image  # Assign the scraped link to the 'im_link' column\n",
    "        print(image)  # Print the extracted image link for debugging\n",
    "\n",
    "    else:\n",
    "        # If no element is found, set the column to NA instead of skipping\n",
    "        print(f\"No image found for {url}. Setting to NA.\")\n",
    "        scrape_dt.loc[index, \"im_link\"] = np.nan  # Set im_link to NA if no image is found\n"
   ]
  },
  {
   "cell_type": "markdown",
   "id": "804b97a9",
   "metadata": {},
   "source": [
    "## Downloading images to set directory ( image name will be the \"ID column + jpg\".)"
   ]
  },
  {
   "cell_type": "code",
   "execution_count": 26,
   "id": "bd136437",
   "metadata": {},
   "outputs": [
    {
     "name": "stdout",
     "output_type": "stream",
     "text": [
      "Skipping row 0: No valid image link.\n",
      "Skipping row 1: No valid image link.\n",
      "Skipping row 2: No valid image link.\n",
      "Skipping row 3: No valid image link.\n",
      "Skipping row 4: No valid image link.\n",
      "Skipping row 5: No valid image link.\n",
      "Downloaded: /Users/zoeungvari/databases/met_images/7.jpg\n",
      "Downloaded: /Users/zoeungvari/databases/met_images/8.jpg\n",
      "Skipping row 8: No valid image link.\n",
      "Skipping row 9: No valid image link.\n",
      "Skipping row 10: No valid image link.\n",
      "Skipping row 11: No valid image link.\n",
      "Skipping row 12: No valid image link.\n",
      "Skipping row 13: No valid image link.\n",
      "Skipping row 14: No valid image link.\n",
      "Skipping row 15: No valid image link.\n",
      "Skipping row 16: No valid image link.\n",
      "Skipping row 17: No valid image link.\n",
      "Skipping row 18: No valid image link.\n",
      "Skipping row 19: No valid image link.\n"
     ]
    }
   ],
   "source": [
    "output_folder = \"\"\n",
    "\n",
    "\n",
    "# Define the folder where images will be saved\n",
    "\n",
    "os.makedirs(output_folder, exist_ok=True)  # Create the folder if it doesn’t exist\n",
    "\n",
    "for index, row in scrape_dt.iterrows():\n",
    "    image_url = row[\"im_link\"]  # Get the image link from the column\n",
    "    image_id = row[\"Object ID\"]  # Use the ID column for naming\n",
    "\n",
    "    # Skip if the image link is NA or None\n",
    "    if not isinstance(image_url, str) or image_url.lower() in [\"nan\", \"none\"]:\n",
    "        print(f\"Skipping row {index}: No valid image link.\")\n",
    "        continue\n",
    "\n",
    "    # Define the filename with the correct extension\n",
    "    image_filename = os.path.join(output_folder, f\"{image_id}.jpg\")\n",
    "\n",
    "    try:\n",
    "        # Send a request to download the image\n",
    "        response = requests.get(image_url, stream=True)\n",
    "        response.raise_for_status()  # Ensure request was successful\n",
    "\n",
    "        # Write the image to a file\n",
    "        with open(image_filename, \"wb\") as file:\n",
    "            for chunk in response.iter_content(1024):  # Download in chunks\n",
    "                file.write(chunk)\n",
    "        \n",
    "        print(f\"Downloaded: {image_filename}\")\n",
    "\n",
    "    except requests.RequestException as e:\n",
    "        print(f\"Failed to download {image_url} for ID {image_id}: {e}\")\n",
    "\n",
    "\n"
   ]
  },
  {
   "cell_type": "code",
   "execution_count": 24,
   "id": "3e7585d9",
   "metadata": {},
   "outputs": [
    {
     "data": {
      "text/html": [
       "<div>\n",
       "<style scoped>\n",
       "    .dataframe tbody tr th:only-of-type {\n",
       "        vertical-align: middle;\n",
       "    }\n",
       "\n",
       "    .dataframe tbody tr th {\n",
       "        vertical-align: top;\n",
       "    }\n",
       "\n",
       "    .dataframe thead th {\n",
       "        text-align: right;\n",
       "    }\n",
       "</style>\n",
       "<table border=\"1\" class=\"dataframe\">\n",
       "  <thead>\n",
       "    <tr style=\"text-align: right;\">\n",
       "      <th></th>\n",
       "      <th>Object ID</th>\n",
       "      <th>Link Resource</th>\n",
       "      <th>im_link</th>\n",
       "    </tr>\n",
       "  </thead>\n",
       "  <tbody>\n",
       "    <tr>\n",
       "      <th>0</th>\n",
       "      <td>1</td>\n",
       "      <td>http://www.metmuseum.org/art/collection/search/1</td>\n",
       "      <td>NaN</td>\n",
       "    </tr>\n",
       "    <tr>\n",
       "      <th>1</th>\n",
       "      <td>2</td>\n",
       "      <td>http://www.metmuseum.org/art/collection/search/2</td>\n",
       "      <td>NaN</td>\n",
       "    </tr>\n",
       "    <tr>\n",
       "      <th>2</th>\n",
       "      <td>3</td>\n",
       "      <td>http://www.metmuseum.org/art/collection/search/3</td>\n",
       "      <td>NaN</td>\n",
       "    </tr>\n",
       "    <tr>\n",
       "      <th>3</th>\n",
       "      <td>4</td>\n",
       "      <td>http://www.metmuseum.org/art/collection/search/4</td>\n",
       "      <td>NaN</td>\n",
       "    </tr>\n",
       "    <tr>\n",
       "      <th>4</th>\n",
       "      <td>5</td>\n",
       "      <td>http://www.metmuseum.org/art/collection/search/5</td>\n",
       "      <td>NaN</td>\n",
       "    </tr>\n",
       "    <tr>\n",
       "      <th>5</th>\n",
       "      <td>6</td>\n",
       "      <td>http://www.metmuseum.org/art/collection/search/6</td>\n",
       "      <td>NaN</td>\n",
       "    </tr>\n",
       "    <tr>\n",
       "      <th>6</th>\n",
       "      <td>7</td>\n",
       "      <td>http://www.metmuseum.org/art/collection/search/7</td>\n",
       "      <td>https://collectionapi.metmuseum.org/api/collec...</td>\n",
       "    </tr>\n",
       "    <tr>\n",
       "      <th>7</th>\n",
       "      <td>8</td>\n",
       "      <td>http://www.metmuseum.org/art/collection/search/8</td>\n",
       "      <td>https://collectionapi.metmuseum.org/api/collec...</td>\n",
       "    </tr>\n",
       "    <tr>\n",
       "      <th>8</th>\n",
       "      <td>9</td>\n",
       "      <td>http://www.metmuseum.org/art/collection/search/9</td>\n",
       "      <td>NaN</td>\n",
       "    </tr>\n",
       "    <tr>\n",
       "      <th>9</th>\n",
       "      <td>10</td>\n",
       "      <td>http://www.metmuseum.org/art/collection/search/10</td>\n",
       "      <td>NaN</td>\n",
       "    </tr>\n",
       "  </tbody>\n",
       "</table>\n",
       "</div>"
      ],
      "text/plain": [
       "   Object ID                                      Link Resource  \\\n",
       "0          1   http://www.metmuseum.org/art/collection/search/1   \n",
       "1          2   http://www.metmuseum.org/art/collection/search/2   \n",
       "2          3   http://www.metmuseum.org/art/collection/search/3   \n",
       "3          4   http://www.metmuseum.org/art/collection/search/4   \n",
       "4          5   http://www.metmuseum.org/art/collection/search/5   \n",
       "5          6   http://www.metmuseum.org/art/collection/search/6   \n",
       "6          7   http://www.metmuseum.org/art/collection/search/7   \n",
       "7          8   http://www.metmuseum.org/art/collection/search/8   \n",
       "8          9   http://www.metmuseum.org/art/collection/search/9   \n",
       "9         10  http://www.metmuseum.org/art/collection/search/10   \n",
       "\n",
       "                                             im_link  \n",
       "0                                                NaN  \n",
       "1                                                NaN  \n",
       "2                                                NaN  \n",
       "3                                                NaN  \n",
       "4                                                NaN  \n",
       "5                                                NaN  \n",
       "6  https://collectionapi.metmuseum.org/api/collec...  \n",
       "7  https://collectionapi.metmuseum.org/api/collec...  \n",
       "8                                                NaN  \n",
       "9                                                NaN  "
      ]
     },
     "execution_count": 24,
     "metadata": {},
     "output_type": "execute_result"
    }
   ],
   "source": [
    "scrape_dt.head(10)\n",
    "\n"
   ]
  }
 ],
 "metadata": {
  "kernelspec": {
   "display_name": "Python 3",
   "language": "python",
   "name": "python3"
  },
  "language_info": {
   "codemirror_mode": {
    "name": "ipython",
    "version": 3
   },
   "file_extension": ".py",
   "mimetype": "text/x-python",
   "name": "python",
   "nbconvert_exporter": "python",
   "pygments_lexer": "ipython3",
   "version": "3.12.4"
  }
 },
 "nbformat": 4,
 "nbformat_minor": 5
}
